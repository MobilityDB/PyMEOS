{
 "cells": [
  {
   "cell_type": "markdown",
   "metadata": {},
   "source": [
    "# Generalizing trajectories\n",
    "\n",
    "<img align=\"right\" src=\"https://anitagraser.github.io/movingpandas/assets/img/movingpandas.png\">\n",
    "\n",
    "[![Binder](https://mybinder.org/badge_logo.svg)](https://mybinder.org/v2/gh/anitagraser/movingpandas-examples/main?filepath=1-tutorials/7-generalizing-trajectories.ipynb)\n",
    "[![IPYNB](https://img.shields.io/badge/view-ipynb-hotpink)](https://github.com/anitagraser/movingpandas-examples/blob/main/1-tutorials/7-generalizing-trajectories.ipynb)\n",
    "[![HTML](https://img.shields.io/badge/view-html-green)](https://anitagraser.github.io/movingpandas-website/1-tutorials/7-generalizing-trajectories.html)\n",
    "\n",
    "To reduce the size (number of points) of trajectory objects, we can generalize them, for example, using:\n",
    "\n",
    "- Spatial generalization, such as Douglas-Peucker algorithm\n",
    "- Temporal generalization by down-sampling, i.e. increasing the time interval between records\n",
    "- Spatiotemporal generalization, e.g. using Top-Down Time Ratio algorithm\n",
    "\n",
    "[Documentation](https://movingpandas.readthedocs.io/en/master/trajectorygeneralizer.html)\n",
    "\n",
    "A closely related type of operation is [trajectory smoothing which is coverd in a separate notebook](./10-smoothing-trajectories.ipynb). "
   ]
  },
  {
   "cell_type": "code",
   "execution_count": null,
   "metadata": {
    "collapsed": false,
    "jupyter": {
     "outputs_hidden": false
    }
   },
   "outputs": [],
   "source": [
    "import sys\n",
    "\n",
    "import geopandas as gpd\n",
    "import matplotlib.pyplot as plt\n",
    "import movingpandas as mpd\n",
    "import pandas as pd\n",
    "from holoviews import opts\n",
    "\n",
    "from pymeos import pymeos_initialize, TGeogPointSeq, TGeogPointInst, TGeomPointInst, TGeomPointSeq, TPointSeq, TPointInst\n",
    "\n",
    "pymeos_initialize()\n",
    "\n",
    "plot_defaults = {'linewidth': 5, 'capstyle': 'round', 'figsize': (9, 3), 'legend': True}\n",
    "opts.defaults(opts.Overlay(active_tools=['wheel_zoom'], frame_width=500, frame_height=400))"
   ]
  },
  {
   "cell_type": "code",
   "execution_count": null,
   "metadata": {
    "collapsed": false,
    "jupyter": {
     "outputs_hidden": false
    }
   },
   "outputs": [],
   "source": [
    "pdf = pd.read_csv('data/aisinput.csv')\n",
    "gdf = gpd.GeoDataFrame(pdf.drop(['latitude', 'longitude'], axis=1),\n",
    "                       geometry=gpd.points_from_xy(pdf.longitude, pdf.latitude), crs=4326)\n",
    "traj_collection = mpd.TrajectoryCollection(gdf, 'mmsi', t='t')"
   ]
  },
  {
   "cell_type": "code",
   "execution_count": null,
   "metadata": {
    "collapsed": false,
    "jupyter": {
     "outputs_hidden": false
    }
   },
   "outputs": [],
   "source": [
    "original_traj = traj_collection.trajectories[1]\n",
    "print(original_traj)"
   ]
  },
  {
   "cell_type": "code",
   "execution_count": null,
   "metadata": {
    "collapsed": false,
    "jupyter": {
     "outputs_hidden": false
    }
   },
   "outputs": [],
   "source": [
    "original_traj.plot(column='speed', vmax=20, **plot_defaults)"
   ]
  },
  {
   "cell_type": "code",
   "execution_count": null,
   "metadata": {
    "collapsed": false,
    "jupyter": {
     "outputs_hidden": false
    }
   },
   "outputs": [],
   "source": [
    "def create_point(row) -> TPointInst:\n",
    "    return TGeogPointInst(string=f\"{row['geometry']}@{row.name}\")\n",
    "\n",
    "\n",
    "original_traj.df['MEOS Point'] = original_traj.df.apply(create_point, axis=1)"
   ]
  },
  {
   "cell_type": "code",
   "execution_count": null,
   "metadata": {
    "collapsed": false,
    "jupyter": {
     "outputs_hidden": false
    }
   },
   "outputs": [],
   "source": [
    "sequence = TGeogPointSeq(instant_list=original_traj.df['MEOS Point'], normalize=False)"
   ]
  },
  {
   "cell_type": "code",
   "execution_count": null,
   "metadata": {
    "collapsed": false,
    "jupyter": {
     "outputs_hidden": false
    }
   },
   "outputs": [],
   "source": [
    "dp_generalized = mpd.DouglasPeuckerGeneralizer(original_traj).generalize(tolerance=0.001)\n",
    "dp_generalized.plot(column='speed', vmax=20, **plot_defaults)"
   ]
  },
  {
   "cell_type": "code",
   "execution_count": null,
   "metadata": {
    "collapsed": false,
    "jupyter": {
     "outputs_hidden": false
    }
   },
   "outputs": [],
   "source": [
    "dp_generalized_pymeos = sequence.simplify(synchronized=False, tolerance=0.001).to_trajectory()\n",
    "dp_generalized_pymeos.plot(column='speed', vmax=20, **plot_defaults)"
   ]
  },
  {
   "cell_type": "code",
   "execution_count": null,
   "metadata": {
    "collapsed": false,
    "jupyter": {
     "outputs_hidden": false
    }
   },
   "outputs": [],
   "source": [
    "dp_generalized"
   ]
  },
  {
   "cell_type": "code",
   "execution_count": null,
   "metadata": {
    "collapsed": false,
    "jupyter": {
     "outputs_hidden": false
    }
   },
   "outputs": [],
   "source": [
    "dp_generalized_pymeos"
   ]
  },
  {
   "cell_type": "code",
   "execution_count": null,
   "metadata": {
    "collapsed": false,
    "jupyter": {
     "outputs_hidden": false
    }
   },
   "outputs": [],
   "source": [
    "print('Original length: %s' % (original_traj.get_length()))\n",
    "print('Generalized length: %s' % (dp_generalized.get_length()))\n",
    "print('Generalized PyMEOS length: %s' % (dp_generalized_pymeos.get_length()))"
   ]
  },
  {
   "cell_type": "markdown",
   "metadata": {},
   "source": [
    "## Spatiotemporal generalization (TopDownTimeRatioGeneralizer)"
   ]
  },
  {
   "cell_type": "code",
   "execution_count": null,
   "metadata": {
    "collapsed": false,
    "jupyter": {
     "outputs_hidden": false
    }
   },
   "outputs": [],
   "source": [
    "tdtr_generalized = mpd.TopDownTimeRatioGeneralizer(original_traj).generalize(tolerance=0.001)"
   ]
  },
  {
   "cell_type": "code",
   "execution_count": null,
   "metadata": {
    "collapsed": false,
    "jupyter": {
     "outputs_hidden": false
    }
   },
   "outputs": [],
   "source": [
    "tdtr_generalized.df.head()"
   ]
  },
  {
   "cell_type": "code",
   "execution_count": null,
   "metadata": {
    "collapsed": false,
    "jupyter": {
     "outputs_hidden": false
    }
   },
   "outputs": [],
   "source": [
    "tdtr_generalized_pymeos = sequence.simplify(synchronized=True, tolerance=0.001).to_trajectory()"
   ]
  },
  {
   "cell_type": "markdown",
   "metadata": {},
   "source": [
    "Let's compare this to the basic Douglas-Peucker result:"
   ]
  },
  {
   "cell_type": "code",
   "execution_count": null,
   "metadata": {
    "collapsed": false,
    "jupyter": {
     "outputs_hidden": false
    }
   },
   "outputs": [],
   "source": [
    "fig, axes = plt.subplots(nrows=2, ncols=2, figsize=(19, 7))\n",
    "tdtr_generalized.plot(ax=axes[0][0], column='speed', vmax=20, **plot_defaults)\n",
    "tdtr_generalized_pymeos.plot(ax=axes[0][1], column='speed', vmax=20, **plot_defaults)\n",
    "dp_generalized.plot(ax=axes[1][0], column='speed', vmax=20, **plot_defaults)\n",
    "dp_generalized_pymeos.plot(ax=axes[1][1], column='speed', vmax=20, **plot_defaults)"
   ]
  },
  {
   "cell_type": "code",
   "execution_count": null,
   "metadata": {},
   "outputs": [],
   "source": [
    "tdtr_generalized"
   ]
  },
  {
   "cell_type": "code",
   "execution_count": null,
   "metadata": {
    "collapsed": false,
    "jupyter": {
     "outputs_hidden": false
    }
   },
   "outputs": [],
   "source": [
    "tdtr_generalized_pymeos"
   ]
  },
  {
   "cell_type": "code",
   "execution_count": null,
   "metadata": {
    "collapsed": false,
    "jupyter": {
     "outputs_hidden": false
    }
   },
   "outputs": [],
   "source": []
  },
  {
   "cell_type": "code",
   "execution_count": null,
   "metadata": {
    "collapsed": false,
    "jupyter": {
     "outputs_hidden": false
    }
   },
   "outputs": [],
   "source": [
    "from time import time\n",
    "\n",
    "\n",
    "def speeds():\n",
    "    times = 10\n",
    "\n",
    "    start = time()\n",
    "    for _ in range(times):\n",
    "        mpd.DouglasPeuckerGeneralizer(original_traj).generalize(tolerance=0.001)\n",
    "    end = time()\n",
    "    dp = (end - start) / times\n",
    "\n",
    "    start = time()\n",
    "    for _ in range(times):\n",
    "        sequence.simplify(synchronized=False, tolerance=0.001).to_trajectory()\n",
    "    end = time()\n",
    "    dp_meos = (end - start) / times\n",
    "\n",
    "    start = time()\n",
    "    for _ in range(times):\n",
    "        mpd.TopDownTimeRatioGeneralizer(original_traj).generalize(tolerance=0.001)\n",
    "    end = time()\n",
    "    tdtr = (end - start) / times\n",
    "\n",
    "    start = time()\n",
    "    for _ in range(times):\n",
    "        sequence.simplify(synchronized=True, tolerance=0.001).to_trajectory()\n",
    "    end = time()\n",
    "    tdtr_meos = (end - start) / times\n",
    "\n",
    "    return dp, dp_meos, tdtr, tdtr_meos"
   ]
  },
  {
   "cell_type": "code",
   "execution_count": null,
   "metadata": {
    "collapsed": false,
    "jupyter": {
     "outputs_hidden": false
    }
   },
   "outputs": [],
   "source": [
    "dp, dp_meos, tdtr, tdtr_meos = speeds()"
   ]
  },
  {
   "cell_type": "code",
   "execution_count": null,
   "metadata": {
    "collapsed": false,
    "jupyter": {
     "outputs_hidden": false
    }
   },
   "outputs": [],
   "source": [
    "print(f'Douglas-Peuker MovingPandas: {dp:0.3f}s')\n",
    "print(f'Douglas-Peuker MovingPandas - PyMEOS: {dp_meos:0.3f}s')\n",
    "print(f'Douglas-Peuker MovingPandas - PyMEOS speedup: {dp / dp_meos:0.2f}')\n",
    "print(f'Top-Down Time Ratio MovingPandas: {tdtr:0.3f}s')\n",
    "print(f'Top-Down Time Ratio MovingPandas - PyMEOS: {tdtr_meos:0.3f}s')\n",
    "print(f'Top-Down Time Ratio MovingPandas - PyMEOS speedup: {tdtr / tdtr_meos:0.2f}')"
   ]
  }
 ],
 "metadata": {
  "kernelspec": {
   "display_name": "Python 3 (ipykernel)",
   "language": "python",
   "name": "python3"
  },
  "language_info": {
   "codemirror_mode": {
    "name": "ipython",
    "version": 3
   },
   "file_extension": ".py",
   "mimetype": "text/x-python",
   "name": "python",
   "nbconvert_exporter": "python",
   "pygments_lexer": "ipython3",
   "version": "3.11.0"
  }
 },
 "nbformat": 4,
 "nbformat_minor": 4
}
